{
  "nbformat": 4,
  "nbformat_minor": 0,
  "metadata": {
    "colab": {
      "provenance": [],
      "authorship_tag": "ABX9TyMbU0Y9iFeNn6ngiNhkODaY",
      "include_colab_link": true
    },
    "kernelspec": {
      "name": "python3",
      "display_name": "Python 3"
    },
    "language_info": {
      "name": "python"
    }
  },
  "cells": [
    {
      "cell_type": "markdown",
      "metadata": {
        "id": "view-in-github",
        "colab_type": "text"
      },
      "source": [
        "<a href=\"https://colab.research.google.com/github/seohyeonlee12/ozcoding-school-15nd/blob/main/chapter4.ipynb\" target=\"_parent\"><img src=\"https://colab.research.google.com/assets/colab-badge.svg\" alt=\"Open In Colab\"/></a>"
      ]
    },
    {
      "cell_type": "markdown",
      "source": [
        "##사칙연산\n",
        "더하기: +\n",
        "빼기: -\n",
        "곱하기: *\n",
        "나누기:\n",
        "*   /: 우리가 알고 있는 나누기와 동일한 기능(예 5/2=2.5)\n",
        "*   //: 몫을 반환 (예 5/2=2)\n",
        "*   %: 나머지를 반환 (예 5/2=1)\n",
        "\n",
        "거듭제곱: **"
      ],
      "metadata": {
        "id": "7nFuKMYN8HnQ"
      }
    },
    {
      "cell_type": "code",
      "execution_count": 1,
      "metadata": {
        "id": "SzxvKDrwKEfW",
        "colab": {
          "base_uri": "https://localhost:8080/"
        },
        "outputId": "f19730b3-f02e-4d8c-8e9b-90fa36373211"
      },
      "outputs": [
        {
          "output_type": "stream",
          "name": "stdout",
          "text": [
            "5\n"
          ]
        }
      ],
      "source": [
        "# 더하기\n",
        "print(3+2)"
      ]
    },
    {
      "cell_type": "code",
      "source": [
        "# 빼기\n",
        "print(3-1)"
      ],
      "metadata": {
        "colab": {
          "base_uri": "https://localhost:8080/"
        },
        "id": "1pmFKs1m9l7N",
        "outputId": "d9a2fc09-4ecc-40bc-89ab-6f4645bf4d5d"
      },
      "execution_count": 2,
      "outputs": [
        {
          "output_type": "stream",
          "name": "stdout",
          "text": [
            "2\n"
          ]
        }
      ]
    },
    {
      "cell_type": "code",
      "source": [
        "# 곱하기\n",
        "print(3*2)"
      ],
      "metadata": {
        "colab": {
          "base_uri": "https://localhost:8080/"
        },
        "id": "h39XSwEt9uiv",
        "outputId": "61b134d7-9324-4f41-e592-42f783fe1a3c"
      },
      "execution_count": 3,
      "outputs": [
        {
          "output_type": "stream",
          "name": "stdout",
          "text": [
            "6\n"
          ]
        }
      ]
    },
    {
      "cell_type": "code",
      "source": [
        "3*2"
      ],
      "metadata": {
        "colab": {
          "base_uri": "https://localhost:8080/"
        },
        "id": "cZ3fa2fM9ynn",
        "outputId": "fcc56e0f-b02c-49db-b6f0-3625d5897112"
      },
      "execution_count": 4,
      "outputs": [
        {
          "output_type": "execute_result",
          "data": {
            "text/plain": [
              "6"
            ]
          },
          "metadata": {},
          "execution_count": 4
        }
      ]
    },
    {
      "cell_type": "code",
      "source": [
        "# 나누기\n",
        "# /\n",
        "print(7/2)\n",
        "\n",
        "# //\n",
        "print(7//2)\n",
        "\n",
        "# %\n",
        "print(7%2)"
      ],
      "metadata": {
        "colab": {
          "base_uri": "https://localhost:8080/"
        },
        "id": "ldEpsnW895KD",
        "outputId": "a37de35f-e120-4904-dd09-15c33fb82941"
      },
      "execution_count": 9,
      "outputs": [
        {
          "output_type": "stream",
          "name": "stdout",
          "text": [
            "3.5\n",
            "3\n",
            "1\n"
          ]
        }
      ]
    },
    {
      "cell_type": "markdown",
      "source": [
        "내장함수: divmod\n",
        "> 내장함수: 자주 사용하는 기능을 미리 만들어 놓은 것을 내장함수라고 함\n",
        "\n",
        "**divmod**: 몫과 나머지를 동시에 구해줌"
      ],
      "metadata": {
        "id": "0lJWRTNg_DEo"
      }
    },
    {
      "cell_type": "code",
      "source": [
        "print(divmod(3, 2))\n",
        "print(divmod(7, 4))\n",
        "print(divmod(13, 2))\n",
        "print(divmod(19, 4))\n",
        "print(divmod(15, 5))\n",
        "\n",
        "print(7//4, \",\", 7%4)"
      ],
      "metadata": {
        "colab": {
          "base_uri": "https://localhost:8080/"
        },
        "id": "5GVTRljW-FlY",
        "outputId": "ed32edcb-180c-4d28-d386-caefa5d1c3ae"
      },
      "execution_count": 14,
      "outputs": [
        {
          "output_type": "stream",
          "name": "stdout",
          "text": [
            "(1, 1)\n",
            "(1, 3)\n",
            "(6, 1)\n",
            "(4, 3)\n",
            "(3, 0)\n",
            "1 , 3\n"
          ]
        }
      ]
    },
    {
      "cell_type": "markdown",
      "source": [
        "##괄호\n",
        "수학에서 사용되는 괄호와 동일한 기능\n",
        "\n",
        "(): 괄호안에 있는 것을 먼저 계산\n",
        "\n",
        "사칙연산 순서: 괄호 -> 곱셈, 나눗셈 -> 덧셈, 뺄셈"
      ],
      "metadata": {
        "id": "plYc-nOVBhEd"
      }
    },
    {
      "cell_type": "code",
      "source": [
        "3+2*4"
      ],
      "metadata": {
        "colab": {
          "base_uri": "https://localhost:8080/"
        },
        "id": "bbu8dSh89_al",
        "outputId": "a76d7749-4919-40e2-ed04-65a34bccd5f7"
      },
      "execution_count": 16,
      "outputs": [
        {
          "output_type": "execute_result",
          "data": {
            "text/plain": [
              "11"
            ]
          },
          "metadata": {},
          "execution_count": 16
        }
      ]
    },
    {
      "cell_type": "code",
      "source": [
        "(3+2)*4"
      ],
      "metadata": {
        "colab": {
          "base_uri": "https://localhost:8080/"
        },
        "id": "AWYvXOYyB0Y8",
        "outputId": "30b64b46-b5d1-4c47-e4fe-4bc161300d08"
      },
      "execution_count": 17,
      "outputs": [
        {
          "output_type": "execute_result",
          "data": {
            "text/plain": [
              "20"
            ]
          },
          "metadata": {},
          "execution_count": 17
        }
      ]
    }
  ]
}